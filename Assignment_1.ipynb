{
  "nbformat": 4,
  "nbformat_minor": 0,
  "metadata": {
    "colab": {
      "provenance": [],
      "authorship_tag": "ABX9TyNk8eAk5gXqFnGGWF+wzy9/",
      "include_colab_link": true
    },
    "kernelspec": {
      "name": "python3",
      "display_name": "Python 3"
    },
    "language_info": {
      "name": "python"
    }
  },
  "cells": [
    {
      "cell_type": "markdown",
      "metadata": {
        "id": "view-in-github",
        "colab_type": "text"
      },
      "source": [
        "<a href=\"https://colab.research.google.com/github/shaggyweb3/Masters_in_data_science/blob/main/Assignment_1.ipynb\" target=\"_parent\"><img src=\"https://colab.research.google.com/assets/colab-badge.svg\" alt=\"Open In Colab\"/></a>"
      ]
    },
    {
      "cell_type": "code",
      "execution_count": 6,
      "metadata": {
        "id": "erwWgLGtrrsy",
        "colab": {
          "base_uri": "https://localhost:8080/",
          "height": 36
        },
        "outputId": "f71e117c-bbb2-4df0-c4e7-64f185f093a8"
      },
      "outputs": [
        {
          "output_type": "execute_result",
          "data": {
            "text/plain": [
              "\"\\nQ 1. In the below elements, which of them are values or an expression?\\n\\nValues:\\n\\n'hello'\\n-87.8\\n6\\n\\nExpressions:\\n\\n*\\n/\\n\\n\\n\""
            ],
            "application/vnd.google.colaboratory.intrinsic+json": {
              "type": "string"
            }
          },
          "metadata": {},
          "execution_count": 6
        }
      ],
      "source": [
        "\"\"\"\n",
        "Q 1. In the below elements, which of them are values or an expression?\n",
        "\n",
        "Values:\n",
        "\n",
        "'hello'\n",
        "-87.8\n",
        "6\n",
        "\n",
        "Expressions:\n",
        "\n",
        "*\n",
        "/\n",
        "\n",
        "\n",
        "\"\"\""
      ]
    },
    {
      "cell_type": "code",
      "source": [
        "\"\"\"\n",
        "Q 2. What is the difference between string and variable?\n",
        "      A string is a data type that represents textual data, enclosed within single quotes ('') or double quotes (\"\").\n",
        "      It can contain letters, numbers, symbols, and spaces. Example: 'hello', \"world\".\n",
        "\n",
        "      A variable, on the other hand, is a placeholder for storing data. It has a name and can hold different values.\n",
        "      Example: x = 5, where x is a variable holding the value 5.\n",
        "\n",
        "\"\"\""
      ],
      "metadata": {
        "colab": {
          "base_uri": "https://localhost:8080/",
          "height": 70
        },
        "id": "U63AfwRzn8zp",
        "outputId": "2f67629d-892d-44df-8349-ef19691905ff"
      },
      "execution_count": 7,
      "outputs": [
        {
          "output_type": "execute_result",
          "data": {
            "text/plain": [
              "'\\nQ 2. What is the difference between string and variable?\\n      A string is a data type that represents textual data, enclosed within single quotes (\\'\\') or double quotes (\"\").\\n      It can contain letters, numbers, symbols, and spaces. Example: \\'hello\\', \"world\".\\n\\n      A variable, on the other hand, is a placeholder for storing data. It has a name and can hold different values. \\n      Example: x = 5, where x is a variable holding the value 5.\\n\\n'"
            ],
            "application/vnd.google.colaboratory.intrinsic+json": {
              "type": "string"
            }
          },
          "metadata": {},
          "execution_count": 7
        }
      ]
    },
    {
      "cell_type": "code",
      "source": [
        "\"\"\"\n",
        "Q 3.Describe three different data types.\n",
        "    Three different data types are:\n",
        "\n",
        "    Integer (int): Represents whole numbers, positive or negative, without decimals. Example: 5, -10.\n",
        "    Float (float): Represents real numbers with decimals. Example: 3.14, -0.5.\n",
        "    String (str): Represents textual data enclosed within single or double quotes. Example: 'hello', \"world\".\n",
        "\n",
        "\"\"\""
      ],
      "metadata": {
        "colab": {
          "base_uri": "https://localhost:8080/",
          "height": 70
        },
        "id": "CbwzMywLpF0o",
        "outputId": "7da59358-6dcd-4041-fad6-88c20a6c9fb1"
      },
      "execution_count": 8,
      "outputs": [
        {
          "output_type": "execute_result",
          "data": {
            "text/plain": [
              "'\\nQ 3.Describe three different data types.\\n    Three different data types are:\\n\\n    Integer (int): Represents whole numbers, positive or negative, without decimals. Example: 5, -10.\\n    Float (float): Represents real numbers with decimals. Example: 3.14, -0.5.\\n    String (str): Represents textual data enclosed within single or double quotes. Example: \\'hello\\', \"world\".\\n\\n'"
            ],
            "application/vnd.google.colaboratory.intrinsic+json": {
              "type": "string"
            }
          },
          "metadata": {},
          "execution_count": 8
        }
      ]
    },
    {
      "cell_type": "code",
      "source": [
        "\"\"\"\n",
        "Q 4. What is an expression made up of? What do all expressions do?\n",
        "      An expression is made up of operators, operands, and sometimes function calls, variables, and literals.\n",
        "      Expressions evaluate to a value. They perform some computation and produce a result.\n",
        "\n",
        "Q 5. This assignment statements, like spam = 10. What is the difference between an expression and a statement?\n",
        "      An expression evaluates to a value, whereas a statement performs an action.\n",
        "      In the assignment statement spam = 10, the expression is '10', which evaluates to the value 10, and the statement assigns this value to the variable spam.\n",
        "\n",
        "Q 6. After running the following code, what does the variable bacon contain?\n",
        "\"\"\"\n",
        "bacon = 22\n",
        "bacon + 1\n",
        "\n",
        "print (bacon)\n"
      ],
      "metadata": {
        "colab": {
          "base_uri": "https://localhost:8080/"
        },
        "id": "AF1iOxAWpcEj",
        "outputId": "9b15c8f8-c581-4020-ef9f-075a9fe34261"
      },
      "execution_count": 11,
      "outputs": [
        {
          "output_type": "stream",
          "name": "stdout",
          "text": [
            "22\n"
          ]
        }
      ]
    },
    {
      "cell_type": "code",
      "source": [
        "\"\"\"\n",
        "What should the values of the following two terms be?\n",
        "\"\"\"\n",
        "first= 'spam' + 'spamspam'\n",
        "second = 'spam' * 3\n",
        "print (first)\n",
        "print (second)"
      ],
      "metadata": {
        "colab": {
          "base_uri": "https://localhost:8080/"
        },
        "id": "6r7TMYwltwwI",
        "outputId": "125937b5-c4ba-42ef-8a43-633bd385b737"
      },
      "execution_count": 14,
      "outputs": [
        {
          "output_type": "stream",
          "name": "stdout",
          "text": [
            "spamspamspam\n",
            "spamspamspam\n"
          ]
        }
      ]
    },
    {
      "cell_type": "code",
      "source": [
        "\"\"\"\n",
        "Q 8. Why is eggs a valid variable name while 100 is invalid?\n",
        "      Variable names cannot start with a digit, so '100' is invalid as a variable name.\n",
        "      However, 'eggs' follows the rules for variable names, as it starts with a letter and can contain letters, digits, and underscores.\n",
        "\n",
        "Q 9. What three functions can be used to get the integer, floating-point number, or string version of a value?\n",
        "      Integer: int()\n",
        "      Floating-point number: float()\n",
        "      String: str()\n",
        "\n",
        "\"\"\"\n",
        "\n"
      ],
      "metadata": {
        "colab": {
          "base_uri": "https://localhost:8080/",
          "height": 70
        },
        "id": "fFIiyv1HuI_2",
        "outputId": "f273a2d3-560e-4f6d-f3ac-9dbf9535d4b8"
      },
      "execution_count": 15,
      "outputs": [
        {
          "output_type": "execute_result",
          "data": {
            "text/plain": [
              "\"\\nQ 8. Why is eggs a valid variable name while 100 is invalid?\\n      Variable names cannot start with a digit, so '100' is invalid as a variable name.\\n      However, 'eggs' follows the rules for variable names, as it starts with a letter and can contain letters, digits, and underscores.\\n\\nq 9. What three functions can be used to get the integer, floating-point number, or string version of a value?\\n      Integer: int()\\n      Floating-point number: float()\\n      String: str()\\n\\n\""
            ],
            "application/vnd.google.colaboratory.intrinsic+json": {
              "type": "string"
            }
          },
          "metadata": {},
          "execution_count": 15
        }
      ]
    },
    {
      "cell_type": "code",
      "source": [
        "# Q 10. Why does this expression cause an error? How can you fix it?\n",
        "\n",
        "'I have eaten ' + 99 + ' burritos.'\n"
      ],
      "metadata": {
        "colab": {
          "base_uri": "https://localhost:8080/",
          "height": 176
        },
        "id": "uyxuTw5Uu7-f",
        "outputId": "6ec9b1a2-1e8f-43c1-f8be-2158353c7ca3"
      },
      "execution_count": 17,
      "outputs": [
        {
          "output_type": "error",
          "ename": "TypeError",
          "evalue": "can only concatenate str (not \"int\") to str",
          "traceback": [
            "\u001b[0;31m---------------------------------------------------------------------------\u001b[0m",
            "\u001b[0;31mTypeError\u001b[0m                                 Traceback (most recent call last)",
            "\u001b[0;32m<ipython-input-17-d6a66e770407>\u001b[0m in \u001b[0;36m<cell line: 3>\u001b[0;34m()\u001b[0m\n\u001b[1;32m      1\u001b[0m \u001b[0;31m# Why does this expression cause an error? How can you fix it?\u001b[0m\u001b[0;34m\u001b[0m\u001b[0;34m\u001b[0m\u001b[0m\n\u001b[1;32m      2\u001b[0m \u001b[0;34m\u001b[0m\u001b[0m\n\u001b[0;32m----> 3\u001b[0;31m \u001b[0;34m'I have eaten '\u001b[0m \u001b[0;34m+\u001b[0m \u001b[0;36m99\u001b[0m \u001b[0;34m+\u001b[0m \u001b[0;34m' burritos.'\u001b[0m\u001b[0;34m\u001b[0m\u001b[0;34m\u001b[0m\u001b[0m\n\u001b[0m",
            "\u001b[0;31mTypeError\u001b[0m: can only concatenate str (not \"int\") to str"
          ]
        }
      ]
    },
    {
      "cell_type": "code",
      "source": [
        "# This expression causes an error because you cannot concatenate a string with an integer directly. You need to convert the integer '99' to a string using the str() function:\n",
        "\n",
        "\n",
        "'I have eaten ' + str(99) + ' burritos.'"
      ],
      "metadata": {
        "colab": {
          "base_uri": "https://localhost:8080/",
          "height": 36
        },
        "id": "KP-9YklyvRzT",
        "outputId": "877fbd21-f959-4585-f01d-037fd3c32bd7"
      },
      "execution_count": 18,
      "outputs": [
        {
          "output_type": "execute_result",
          "data": {
            "text/plain": [
              "'I have eaten 99 burritos.'"
            ],
            "application/vnd.google.colaboratory.intrinsic+json": {
              "type": "string"
            }
          },
          "metadata": {},
          "execution_count": 18
        }
      ]
    },
    {
      "cell_type": "code",
      "source": [],
      "metadata": {
        "id": "xaIFMzxyvdFY"
      },
      "execution_count": null,
      "outputs": []
    }
  ]
}