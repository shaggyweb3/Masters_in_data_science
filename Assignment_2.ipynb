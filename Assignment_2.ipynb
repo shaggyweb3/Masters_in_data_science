{
  "nbformat": 4,
  "nbformat_minor": 0,
  "metadata": {
    "colab": {
      "provenance": [],
      "authorship_tag": "ABX9TyN5ZKCm92a+jrdsqa9e7XiE",
      "include_colab_link": true
    },
    "kernelspec": {
      "name": "python3",
      "display_name": "Python 3"
    },
    "language_info": {
      "name": "python"
    }
  },
  "cells": [
    {
      "cell_type": "markdown",
      "metadata": {
        "id": "view-in-github",
        "colab_type": "text"
      },
      "source": [
        "<a href=\"https://colab.research.google.com/github/shaggyweb3/Masters_in_data_science/blob/main/Assignment_2.ipynb\" target=\"_parent\"><img src=\"https://colab.research.google.com/assets/colab-badge.svg\" alt=\"Open In Colab\"/></a>"
      ]
    },
    {
      "cell_type": "code",
      "execution_count": null,
      "metadata": {
        "colab": {
          "base_uri": "https://localhost:8080/",
          "height": 123
        },
        "id": "I0Sn9EBHq8--",
        "outputId": "9183a67a-4a6d-4d07-8958-711a95f1df26"
      },
      "outputs": [
        {
          "output_type": "execute_result",
          "data": {
            "text/plain": [
              "\"\\nWhat are the two values of the Boolean data type? How do you write them?\\n\\nThe two values of the Boolean data type are True and False. They are written exactly as shown, with the first letter capitalized.\\nWhat are the three different types of Boolean operators?\\n\\nThe three different types of Boolean operators are and, or, and not.\\nMake a list of each Boolean operator's truth tables.\\n\\nAND Truth Table:\\ngraphql\\nCopy code\\nTrue  and True  = True\\nTrue  and False = False\\nFalse and True  = False\\nFalse and False = False\\nOR Truth Table:\\ngraphql\\nCopy code\\nTrue  or True  = True\\nTrue  or False = True\\nFalse or True  = True\\nFalse or False = False\\nNOT Truth Table:\\ngraphql\\nCopy code\\nnot True  = False\\nnot False = True\\nWhat are the values of the following expressions?\\n\\n(5 > 4) and (3 == 5): False\\nnot (5 > 4): False\\n(5 > 4) or (3 == 5): True\\nnot ((5 > 4) or (3 == 5)): False\\n(True and True) and (True == False): False\\n(not False) or (not True): True\\nWhat are the six comparison operators?\\n\\nThe six comparison operators are: >, <, >=, <=, ==, and !=.\\nHow do you tell the difference between the equal to and assignment operators? Describe a condition and when you would use one.\\n\\nThe equal to operator == is used to compare two values for equality, whereas the assignment operator = is used to assign a value to a variable.\\nFor example, in the condition x == 5, you're checking if the value of x is equal to 5. On the other hand, in x = 5, you're assigning the value 5 to the variable x. You would use the equal to operator when you need to compare values, and you would use the assignment operator when you need to assign a value to a variable.\\n\\n\""
            ],
            "application/vnd.google.colaboratory.intrinsic+json": {
              "type": "string"
            }
          },
          "metadata": {},
          "execution_count": 1
        }
      ],
      "source": [
        "'''\n",
        "What are the two values of the Boolean data type? How do you write them?\n",
        "\n",
        "The two values of the Boolean data type are True and False. They are written exactly as shown, with the first letter capitalized.\n",
        "What are the three different types of Boolean operators?\n",
        "\n",
        "The three different types of Boolean operators are and, or, and not.\n",
        "Make a list of each Boolean operator's truth tables.\n",
        "\n",
        "AND Truth Table:\n",
        "graphql\n",
        "Copy code\n",
        "True  and True  = True\n",
        "True  and False = False\n",
        "False and True  = False\n",
        "False and False = False\n",
        "OR Truth Table:\n",
        "graphql\n",
        "Copy code\n",
        "True  or True  = True\n",
        "True  or False = True\n",
        "False or True  = True\n",
        "False or False = False\n",
        "NOT Truth Table:\n",
        "graphql\n",
        "Copy code\n",
        "not True  = False\n",
        "not False = True\n",
        "What are the values of the following expressions?\n",
        "\n",
        "(5 > 4) and (3 == 5): False\n",
        "not (5 > 4): False\n",
        "(5 > 4) or (3 == 5): True\n",
        "not ((5 > 4) or (3 == 5)): False\n",
        "(True and True) and (True == False): False\n",
        "(not False) or (not True): True\n",
        "What are the six comparison operators?\n",
        "\n",
        "The six comparison operators are: >, <, >=, <=, ==, and !=.\n",
        "How do you tell the difference between the equal to and assignment operators? Describe a condition and when you would use one.\n",
        "\n",
        "The equal to operator == is used to compare two values for equality, whereas the assignment operator = is used to assign a value to a variable.\n",
        "For example, in the condition x == 5, you're checking if the value of x is equal to 5. On the other hand, in x = 5, you're assigning the value 5 to the variable x. You would use the equal to operator when you need to compare values, and you would use the assignment operator when you need to assign a value to a variable.\n",
        "\n",
        "'''\n",
        "\n",
        "Data is updated\n",
        "\n"
      ]
    },
    {
      "cell_type": "code",
      "source": [],
      "metadata": {
        "id": "Ss6P74LgrLwF"
      },
      "execution_count": null,
      "outputs": []
    }
  ]
}